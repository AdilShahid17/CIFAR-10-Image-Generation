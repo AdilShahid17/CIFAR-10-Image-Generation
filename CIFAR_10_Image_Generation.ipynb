{
  "nbformat": 4,
  "nbformat_minor": 0,
  "metadata": {
    "colab": {
      "provenance": []
    },
    "kernelspec": {
      "name": "python3",
      "display_name": "Python 3"
    },
    "language_info": {
      "name": "python"
    }
  },
  "cells": [
    {
      "cell_type": "markdown",
      "source": [
        "# Import Necessary Libraries and Files"
      ],
      "metadata": {
        "id": "648Kn38535yP"
      }
    },
    {
      "cell_type": "code",
      "execution_count": 3,
      "metadata": {
        "id": "_mNqwXFV3pgC"
      },
      "outputs": [],
      "source": [
        "import torch\n",
        "import torch.nn as nn\n",
        "import torch.optim as optim\n",
        "import torchvision\n",
        "from torchvision import datasets, transforms\n",
        "import matplotlib.pyplot as plt\n",
        "import numpy as np\n",
        "\n",
        "# Set device\n",
        "device = torch.device('cuda' if torch.cuda.is_available() else 'cpu')"
      ]
    },
    {
      "cell_type": "markdown",
      "source": [
        "# Setup"
      ],
      "metadata": {
        "id": "qeQmIdTi4XsS"
      }
    },
    {
      "cell_type": "code",
      "source": [
        "# Define a basic transform\n",
        "transform = transforms.Compose([\n",
        "\ttransforms.ToTensor(),\n",
        "\ttransforms.Normalize((0.5, 0.5, 0.5), (0.5, 0.5, 0.5))\n",
        "])\n",
        "\n",
        "train_dataset = datasets.CIFAR10(root='./data',\\\n",
        "\t\t\ttrain=True, download=True, transform=transform)\n",
        "dataloader = torch.utils.data.DataLoader(train_dataset, \\\n",
        "\t\t\t\t\t\t\t\tbatch_size=32, shuffle=True)\n",
        "\n",
        "# Hyperparameters\n",
        "latent_dim = 100\n",
        "lr = 0.0002\n",
        "beta1 = 0.5\n",
        "beta2 = 0.999\n",
        "num_epochs = 10"
      ],
      "metadata": {
        "colab": {
          "base_uri": "https://localhost:8080/"
        },
        "id": "O7Xj48HA52ln",
        "outputId": "00a4b81b-251a-4269-e0aa-888012256295"
      },
      "execution_count": 4,
      "outputs": [
        {
          "output_type": "stream",
          "name": "stdout",
          "text": [
            "Downloading https://www.cs.toronto.edu/~kriz/cifar-10-python.tar.gz to ./data/cifar-10-python.tar.gz\n"
          ]
        },
        {
          "output_type": "stream",
          "name": "stderr",
          "text": [
            "100%|██████████| 170498071/170498071 [00:02<00:00, 72506096.45it/s]\n"
          ]
        },
        {
          "output_type": "stream",
          "name": "stdout",
          "text": [
            "Extracting ./data/cifar-10-python.tar.gz to ./data\n"
          ]
        }
      ]
    },
    {
      "cell_type": "markdown",
      "source": [
        "# Define Classes"
      ],
      "metadata": {
        "id": "WLb6a0sS6DlJ"
      }
    },
    {
      "cell_type": "code",
      "source": [
        "# Define the generator\n",
        "class Generator(nn.Module):\n",
        "\tdef __init__(self, latent_dim):\n",
        "\t\tsuper(Generator, self).__init__()\n",
        "\n",
        "\t\tself.model = nn.Sequential(\n",
        "\t\t\tnn.Linear(latent_dim, 128 * 8 * 8),\n",
        "\t\t\tnn.ReLU(),\n",
        "\t\t\tnn.Unflatten(1, (128, 8, 8)),\n",
        "\t\t\tnn.Upsample(scale_factor=2),\n",
        "\t\t\tnn.Conv2d(128, 128, kernel_size=3, padding=1),\n",
        "\t\t\tnn.BatchNorm2d(128, momentum=0.78),\n",
        "\t\t\tnn.ReLU(),\n",
        "\t\t\tnn.Upsample(scale_factor=2),\n",
        "\t\t\tnn.Conv2d(128, 64, kernel_size=3, padding=1),\n",
        "\t\t\tnn.BatchNorm2d(64, momentum=0.78),\n",
        "\t\t\tnn.ReLU(),\n",
        "\t\t\tnn.Conv2d(64, 3, kernel_size=3, padding=1),\n",
        "\t\t\tnn.Tanh()\n",
        "\t\t)\n",
        "\n",
        "\tdef forward(self, z):\n",
        "\t\timg = self.model(z)\n",
        "\t\treturn img\n",
        "\n",
        "# Define the discriminator\n",
        "class Discriminator(nn.Module):\n",
        "\tdef __init__(self):\n",
        "\t\tsuper(Discriminator, self).__init__()\n",
        "\n",
        "\t\tself.model = nn.Sequential(\n",
        "\t\tnn.Conv2d(3, 32, kernel_size=3, stride=2, padding=1),\n",
        "\t\tnn.LeakyReLU(0.2),\n",
        "\t\tnn.Dropout(0.25),\n",
        "\t\tnn.Conv2d(32, 64, kernel_size=3, stride=2, padding=1),\n",
        "\t\tnn.ZeroPad2d((0, 1, 0, 1)),\n",
        "\t\tnn.BatchNorm2d(64, momentum=0.82),\n",
        "\t\tnn.LeakyReLU(0.25),\n",
        "\t\tnn.Dropout(0.25),\n",
        "\t\tnn.Conv2d(64, 128, kernel_size=3, stride=2, padding=1),\n",
        "\t\tnn.BatchNorm2d(128, momentum=0.82),\n",
        "\t\tnn.LeakyReLU(0.2),\n",
        "\t\tnn.Dropout(0.25),\n",
        "\t\tnn.Conv2d(128, 256, kernel_size=3, stride=1, padding=1),\n",
        "\t\tnn.BatchNorm2d(256, momentum=0.8),\n",
        "\t\tnn.LeakyReLU(0.25),\n",
        "\t\tnn.Dropout(0.25),\n",
        "\t\tnn.Flatten(),\n",
        "\t\tnn.Linear(256 * 5 * 5, 1),\n",
        "\t\tnn.Sigmoid()\n",
        "\t)\n",
        "\n",
        "\tdef forward(self, img):\n",
        "\t\tvalidity = self.model(img)\n",
        "\t\treturn validity\n",
        "\n",
        "\n",
        "# Define the generator and discriminator\n",
        "# Initialize generator and discriminator\n",
        "generator = Generator(latent_dim).to(device)\n",
        "discriminator = Discriminator().to(device)\n",
        "# Loss function\n",
        "adversarial_loss = nn.BCELoss()\n",
        "# Optimizers\n",
        "optimizer_G = optim.Adam(generator.parameters()\\\n",
        "                         , lr=lr, betas=(beta1, beta2))\n",
        "optimizer_D = optim.Adam(discriminator.parameters()\\\n",
        "                         , lr=lr, betas=(beta1, beta2))"
      ],
      "metadata": {
        "id": "Lfy7nVeK6Gyz"
      },
      "execution_count": 5,
      "outputs": []
    },
    {
      "cell_type": "markdown",
      "source": [
        "# Train Model"
      ],
      "metadata": {
        "id": "1vrgn5Br6VCU"
      }
    },
    {
      "cell_type": "code",
      "source": [
        "# Training loop\n",
        "for epoch in range(num_epochs):\n",
        "\tfor i, batch in enumerate(dataloader):\n",
        "\t# Convert list to tensor\n",
        "\t\treal_images = batch[0].to(device)\n",
        "\t\t# Adversarial ground truths\n",
        "\t\tvalid = torch.ones(real_images.size(0), 1, device=device)\n",
        "\t\tfake = torch.zeros(real_images.size(0), 1, device=device)\n",
        "\t\t# Configure input\n",
        "\t\treal_images = real_images.to(device)\n",
        "\n",
        "\t\t# ---------------------\n",
        "\t\t# Train Discriminator\n",
        "\t\t# ---------------------\n",
        "\t\toptimizer_D.zero_grad()\n",
        "\t\t# Sample noise as generator input\n",
        "\t\tz = torch.randn(real_images.size(0), latent_dim, device=device)\n",
        "\t\t# Generate a batch of images\n",
        "\t\tfake_images = generator(z)\n",
        "\n",
        "\t\t# Measure discriminator's ability\n",
        "\t\t# to classify real and fake images\n",
        "\t\treal_loss = adversarial_loss(discriminator\\\n",
        "\t\t\t\t\t\t\t\t\t(real_images), valid)\n",
        "\t\tfake_loss = adversarial_loss(discriminator\\\n",
        "\t\t\t\t\t\t\t\t\t(fake_images.detach()), fake)\n",
        "\t\td_loss = (real_loss + fake_loss) / 2\n",
        "\t\t# Backward pass and optimize\n",
        "\t\td_loss.backward()\n",
        "\t\toptimizer_D.step()\n",
        "\n",
        "\t\t# -----------------\n",
        "\t\t# Train Generator\n",
        "\t\t# -----------------\n",
        "\n",
        "\t\toptimizer_G.zero_grad()\n",
        "\t\t# Generate a batch of images\n",
        "\t\tgen_images = generator(z)\n",
        "\t\t# Adversarial loss\n",
        "\t\tg_loss = adversarial_loss(discriminator(gen_images), valid)\n",
        "\t\t# Backward pass and optimize\n",
        "\t\tg_loss.backward()\n",
        "\t\toptimizer_G.step()\n",
        "\t\t# ---------------------\n",
        "\t\t# Progress Monitoring\n",
        "\t\t# ---------------------\n",
        "\t\tif (i + 1) % 100 == 0:\n",
        "\t\t\tprint(\n",
        "\t\t\t\tf\"Epoch [{epoch+1}/{num_epochs}]\\\n",
        "\t\t\t\t\t\tBatch {i+1}/{len(dataloader)} \"\n",
        "\t\t\t\tf\"Discriminator Loss: {d_loss.item():.4f} \"\n",
        "\t\t\t\tf\"Generator Loss: {g_loss.item():.4f}\"\n",
        "\t\t\t)\n",
        "\t# Save generated images for every epoch\n",
        "\tif (epoch + 1) % 10 == 0:\n",
        "\t\twith torch.no_grad():\n",
        "\t\t\tz = torch.randn(16, latent_dim, device=device)\n",
        "\t\t\tgenerated = generator(z).detach().cpu()\n",
        "\t\t\tgrid = torchvision.utils.make_grid(generated,\\\n",
        "\t\t\t\t\t\t\t\t\t\tnrow=4, normalize=True)\n",
        "\t\t\tplt.imshow(np.transpose(grid, (1, 2, 0)))\n",
        "\t\t\tplt.axis(\"off\")\n",
        "\t\t\tplt.show()"
      ],
      "metadata": {
        "colab": {
          "base_uri": "https://localhost:8080/"
        },
        "id": "u1y4DQTG6XfI",
        "outputId": "ba6d1984-9f86-47f3-d7fc-3e2cd3727a02"
      },
      "execution_count": null,
      "outputs": [
        {
          "metadata": {
            "tags": null
          },
          "name": "stdout",
          "output_type": "stream",
          "text": [
            "Epoch [1/10]\t\t\t\t\t\tBatch 100/1563 Discriminator Loss: 0.6809 Generator Loss: 0.9018\n",
            "Epoch [1/10]\t\t\t\t\t\tBatch 200/1563 Discriminator Loss: 0.7233 Generator Loss: 1.0142\n",
            "Epoch [1/10]\t\t\t\t\t\tBatch 300/1563 Discriminator Loss: 0.6592 Generator Loss: 1.1456\n",
            "Epoch [1/10]\t\t\t\t\t\tBatch 400/1563 Discriminator Loss: 0.6419 Generator Loss: 1.1499\n",
            "Epoch [1/10]\t\t\t\t\t\tBatch 500/1563 Discriminator Loss: 0.7027 Generator Loss: 1.1307\n",
            "Epoch [1/10]\t\t\t\t\t\tBatch 600/1563 Discriminator Loss: 0.6757 Generator Loss: 0.9992\n",
            "Epoch [1/10]\t\t\t\t\t\tBatch 700/1563 Discriminator Loss: 0.6896 Generator Loss: 1.1048\n",
            "Epoch [1/10]\t\t\t\t\t\tBatch 800/1563 Discriminator Loss: 0.8513 Generator Loss: 0.8249\n",
            "Epoch [1/10]\t\t\t\t\t\tBatch 900/1563 Discriminator Loss: 0.5708 Generator Loss: 1.3422\n",
            "Epoch [1/10]\t\t\t\t\t\tBatch 1000/1563 Discriminator Loss: 0.6308 Generator Loss: 0.9656\n",
            "Epoch [1/10]\t\t\t\t\t\tBatch 1100/1563 Discriminator Loss: 0.6443 Generator Loss: 1.0420\n",
            "Epoch [1/10]\t\t\t\t\t\tBatch 1200/1563 Discriminator Loss: 0.6747 Generator Loss: 0.9143\n",
            "Epoch [1/10]\t\t\t\t\t\tBatch 1300/1563 Discriminator Loss: 0.7075 Generator Loss: 0.9809\n",
            "Epoch [1/10]\t\t\t\t\t\tBatch 1400/1563 Discriminator Loss: 0.7232 Generator Loss: 1.0308\n",
            "Epoch [1/10]\t\t\t\t\t\tBatch 1500/1563 Discriminator Loss: 0.7490 Generator Loss: 0.9342\n",
            "Epoch [2/10]\t\t\t\t\t\tBatch 100/1563 Discriminator Loss: 0.6659 Generator Loss: 1.0512\n",
            "Epoch [2/10]\t\t\t\t\t\tBatch 200/1563 Discriminator Loss: 0.7492 Generator Loss: 0.9441\n",
            "Epoch [2/10]\t\t\t\t\t\tBatch 300/1563 Discriminator Loss: 0.7240 Generator Loss: 1.0796\n",
            "Epoch [2/10]\t\t\t\t\t\tBatch 400/1563 Discriminator Loss: 0.6004 Generator Loss: 0.8958\n",
            "Epoch [2/10]\t\t\t\t\t\tBatch 500/1563 Discriminator Loss: 0.6685 Generator Loss: 1.1215\n",
            "Epoch [2/10]\t\t\t\t\t\tBatch 600/1563 Discriminator Loss: 0.5915 Generator Loss: 1.0621\n",
            "Epoch [2/10]\t\t\t\t\t\tBatch 700/1563 Discriminator Loss: 0.6362 Generator Loss: 1.0138\n",
            "Epoch [2/10]\t\t\t\t\t\tBatch 800/1563 Discriminator Loss: 0.6930 Generator Loss: 1.0492\n",
            "Epoch [2/10]\t\t\t\t\t\tBatch 900/1563 Discriminator Loss: 0.6465 Generator Loss: 0.9982\n",
            "Epoch [2/10]\t\t\t\t\t\tBatch 1000/1563 Discriminator Loss: 0.8881 Generator Loss: 0.6428\n",
            "Epoch [2/10]\t\t\t\t\t\tBatch 1100/1563 Discriminator Loss: 0.5612 Generator Loss: 1.0852\n",
            "Epoch [2/10]\t\t\t\t\t\tBatch 1200/1563 Discriminator Loss: 0.7920 Generator Loss: 0.7714\n",
            "Epoch [2/10]\t\t\t\t\t\tBatch 1300/1563 Discriminator Loss: 0.6245 Generator Loss: 1.1597\n",
            "Epoch [2/10]\t\t\t\t\t\tBatch 1400/1563 Discriminator Loss: 0.6826 Generator Loss: 1.0280\n",
            "Epoch [2/10]\t\t\t\t\t\tBatch 1500/1563 Discriminator Loss: 0.6379 Generator Loss: 1.0128\n",
            "Epoch [3/10]\t\t\t\t\t\tBatch 100/1563 Discriminator Loss: 0.6077 Generator Loss: 1.1317\n",
            "Epoch [3/10]\t\t\t\t\t\tBatch 200/1563 Discriminator Loss: 0.5048 Generator Loss: 1.1651\n",
            "Epoch [3/10]\t\t\t\t\t\tBatch 300/1563 Discriminator Loss: 0.5944 Generator Loss: 1.1423\n",
            "Epoch [3/10]\t\t\t\t\t\tBatch 400/1563 Discriminator Loss: 0.6764 Generator Loss: 0.8861\n",
            "Epoch [3/10]\t\t\t\t\t\tBatch 500/1563 Discriminator Loss: 0.5548 Generator Loss: 1.1157\n",
            "Epoch [3/10]\t\t\t\t\t\tBatch 600/1563 Discriminator Loss: 0.7375 Generator Loss: 1.1998\n",
            "Epoch [3/10]\t\t\t\t\t\tBatch 700/1563 Discriminator Loss: 0.8603 Generator Loss: 1.1405\n",
            "Epoch [3/10]\t\t\t\t\t\tBatch 800/1563 Discriminator Loss: 0.6478 Generator Loss: 1.3448\n",
            "Epoch [3/10]\t\t\t\t\t\tBatch 900/1563 Discriminator Loss: 0.6242 Generator Loss: 1.2138\n"
          ]
        }
      ]
    }
  ]
}